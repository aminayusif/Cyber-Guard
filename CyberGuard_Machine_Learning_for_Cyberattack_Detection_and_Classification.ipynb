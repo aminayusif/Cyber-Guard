{
  "nbformat": 4,
  "nbformat_minor": 0,
  "metadata": {
    "colab": {
      "provenance": [],
      "toc_visible": true,
      "authorship_tag": "ABX9TyO6cn1VDf7AGWe6KO7LLhVF",
      "include_colab_link": true
    },
    "kernelspec": {
      "name": "python3",
      "display_name": "Python 3"
    },
    "language_info": {
      "name": "python"
    }
  },
  "cells": [
    {
      "cell_type": "markdown",
      "metadata": {
        "id": "view-in-github",
        "colab_type": "text"
      },
      "source": [
        "<a href=\"https://colab.research.google.com/github/aminayusif/Cyber-Guard/blob/main/CyberGuard_Machine_Learning_for_Cyberattack_Detection_and_Classification.ipynb\" target=\"_parent\"><img src=\"https://colab.research.google.com/assets/colab-badge.svg\" alt=\"Open In Colab\"/></a>"
      ]
    },
    {
      "cell_type": "markdown",
      "source": [
        "## Introduction"
      ],
      "metadata": {
        "id": "hjK2JuwC7yEp"
      }
    },
    {
      "cell_type": "markdown",
      "source": [
        "In today’s digital era, cyber threats are evolving rapidly, making traditional defense mechanisms increasingly inadequate. Organizations are now seeking intelligent, data-driven solutions to identify, classify, and mitigate cybersecurity threats in real time. This project, titled \"CyberGuard: Machine Learning for Cyberattack Detection and Classification,\" applies machine learning (ML) techniques to network and system-level data to automatically detect and classify different types of cyberattacks.\n",
        "\n",
        "The dataset used contains 40,000 labeled records of cybersecurity events, including features such as IP addresses, ports, protocols, payload data, anomaly scores, and metadata from firewall and intrusion detection systems. The primary objective is to develop a classification model that can predict the attack type based on these features, and optionally assess its severity level.\n",
        "\n",
        "The project follows a complete ML pipeline, beginning with exploratory data analysis (EDA) to uncover patterns in attack behavior, protocol usage, and severity trends. In the data preprocessing phase, we handle missing values (particularly in logs such as IDS alerts and proxy information), encode categorical variables, and reduce high-cardinality fields that may lead to overfitting.\n",
        "\n",
        "Feature engineering includes transforming timestamps into useful temporal features, encoding traffic types and protocols, and identifying significant indicators from anomaly scores. We then experiment with multiple supervised classification algorithms such as Random Forest, Logistic Regression, and Gradient Boosting, using grid search and cross-validation for optimization.\n",
        "\n",
        "Model evaluation is conducted using metrics like accuracy, precision, recall, F1 score, and ROC-AUC. Confusion matrices and error analysis help interpret the model's performance and pinpoint common misclassifications, aiding in iterative improvements.\n",
        "\n",
        "The final output is a trained ML model capable of identifying and classifying cyberattacks, which could be integrated into security systems for automated detection. The project not only demonstrates the practical use of machine learning in cybersecurity but also highlights the importance of combining domain knowledge with data science to build intelligent defense mechanisms.\n",
        "\n",
        "This solution can help cybersecurity teams improve response times, reduce false positives, and better allocate resources in the face of increasingly sophisticated threats."
      ],
      "metadata": {
        "id": "RK1sP7XT6q98"
      }
    },
    {
      "cell_type": "markdown",
      "source": [
        "## Objectives"
      ],
      "metadata": {
        "id": "ojUmWUtu29U4"
      }
    },
    {
      "cell_type": "markdown",
      "source": [
        "- Perform exploratory data analysis (EDA) on cybersecurity logs\n",
        "- Clean and preprocess high-volume network data\n",
        "- Engineer relevant features from raw logs\n",
        "- Train and evaluate machine learning models to detect and classify attack types\n",
        "- Analyze model performance using metrics and error analysis\n"
      ],
      "metadata": {
        "id": "gyS6r3Xu2_oA"
      }
    },
    {
      "cell_type": "markdown",
      "source": [
        "## Exploratory Data Analysis and Data Preprocessing"
      ],
      "metadata": {
        "id": "u2dAk0cT63Fx"
      }
    },
    {
      "cell_type": "markdown",
      "source": [
        "### Import common libraries"
      ],
      "metadata": {
        "id": "VKJg8u7lfTNR"
      }
    },
    {
      "cell_type": "code",
      "source": [
        "import pandas as pd\n",
        "import numpy as np\n",
        "import matplotlib.pyplot as plt\n",
        "import seaborn as sns\n",
        "import warnings\n",
        "warnings.filterwarnings('ignore')"
      ],
      "metadata": {
        "id": "QBvLSrrMfWVn"
      },
      "execution_count": 9,
      "outputs": []
    },
    {
      "cell_type": "markdown",
      "source": [
        "### Dataset Overview"
      ],
      "metadata": {
        "id": "bbvGT1WQ7uKr"
      }
    },
    {
      "cell_type": "markdown",
      "source": [
        " The dataset for this case study is provided in the file cybersecurity_attacks.csv\n",
        " and contains approximately 40,000 records. The key attributes include IP addresses, protocol, ports, payload data, anomaly scores, attack type"
      ],
      "metadata": {
        "id": "fTvMrjMU6tSK"
      }
    },
    {
      "cell_type": "markdown",
      "source": [
        "**Network activity** : IP, Port, Protocol, Packet Length\n",
        "\n",
        "**System-level data** : User Info, Device Info, Geo-location\n",
        "\n",
        "**Security-specific logs** : Anomaly Scores, Firewall Logs, Attack Signature\n",
        "\n",
        "**Labels** : Attack Type, Severity Level"
      ],
      "metadata": {
        "id": "dYtCKutE9dmI"
      }
    },
    {
      "cell_type": "markdown",
      "source": [
        "#### Import Dataset"
      ],
      "metadata": {
        "id": "_4vLh7Hz47OI"
      }
    },
    {
      "cell_type": "code",
      "metadata": {
        "colab": {
          "base_uri": "https://localhost:8080/",
          "height": 1000
        },
        "id": "8d524f1d",
        "outputId": "e5ee275e-7fa4-498d-fe30-0a0df2cb4450"
      },
      "source": [
        "import pandas as pd\n",
        "\n",
        "data = pd.read_csv('cybersecurity_attacks.csv')\n",
        "\n",
        "print(\"Dataset Overview:\")\n",
        "display(data.head())\n",
        "\n",
        "print(\"\\nColumn Information:\")\n",
        "display(data.info())"
      ],
      "execution_count": 2,
      "outputs": [
        {
          "output_type": "stream",
          "name": "stdout",
          "text": [
            "Dataset Overview:\n"
          ]
        },
        {
          "output_type": "display_data",
          "data": {
            "text/plain": [
              "             Timestamp Source IP Address Destination IP Address  Source Port  \\\n",
              "0  2023-05-30 06:33:58     103.216.15.12           84.9.164.252        31225   \n",
              "1  2020-08-26 07:08:30    78.199.217.198         66.191.137.154        17245   \n",
              "2  2022-11-13 08:23:25      63.79.210.48          198.219.82.17        16811   \n",
              "3  2023-07-02 10:38:46     163.42.196.10        101.228.192.255        20018   \n",
              "4  2023-07-16 13:11:07     71.166.185.76        189.243.174.238         6131   \n",
              "\n",
              "   Destination Port Protocol  Packet Length Packet Type Traffic Type  \\\n",
              "0             17616     ICMP            503        Data         HTTP   \n",
              "1             48166     ICMP           1174        Data         HTTP   \n",
              "2             53600      UDP            306     Control         HTTP   \n",
              "3             32534      UDP            385        Data         HTTP   \n",
              "4             26646      TCP           1462        Data          DNS   \n",
              "\n",
              "                                        Payload Data  ... Action Taken  \\\n",
              "0  Qui natus odio asperiores nam. Optio nobis ius...  ...       Logged   \n",
              "1  Aperiam quos modi officiis veritatis rem. Omni...  ...      Blocked   \n",
              "2  Perferendis sapiente vitae soluta. Hic delectu...  ...      Ignored   \n",
              "3  Totam maxime beatae expedita explicabo porro l...  ...      Blocked   \n",
              "4  Odit nesciunt dolorem nisi iste iusto. Animi v...  ...      Blocked   \n",
              "\n",
              "   Severity Level User Information  \\\n",
              "0             Low    Reyansh Dugal   \n",
              "1             Low       Sumer Rana   \n",
              "2             Low     Himmat Karpe   \n",
              "3          Medium       Fateh Kibe   \n",
              "4             Low     Dhanush Chad   \n",
              "\n",
              "                                  Device Information Network Segment  \\\n",
              "0  Mozilla/5.0 (compatible; MSIE 8.0; Windows NT ...       Segment A   \n",
              "1  Mozilla/5.0 (compatible; MSIE 8.0; Windows NT ...       Segment B   \n",
              "2  Mozilla/5.0 (compatible; MSIE 9.0; Windows NT ...       Segment C   \n",
              "3  Mozilla/5.0 (Macintosh; PPC Mac OS X 10_11_5; ...       Segment B   \n",
              "4  Mozilla/5.0 (compatible; MSIE 5.0; Windows NT ...       Segment C   \n",
              "\n",
              "    Geo-location Data Proxy Information Firewall Logs IDS/IPS Alerts  \\\n",
              "0  Jamshedpur, Sikkim      150.9.97.135      Log Data            NaN   \n",
              "1  Bilaspur, Nagaland               NaN      Log Data            NaN   \n",
              "2   Bokaro, Rajasthan    114.133.48.179      Log Data     Alert Data   \n",
              "3  Jaunpur, Rajasthan               NaN           NaN     Alert Data   \n",
              "4  Anantapur, Tripura     149.6.110.119           NaN     Alert Data   \n",
              "\n",
              "  Log Source  \n",
              "0     Server  \n",
              "1   Firewall  \n",
              "2   Firewall  \n",
              "3   Firewall  \n",
              "4   Firewall  \n",
              "\n",
              "[5 rows x 25 columns]"
            ],
            "text/html": [
              "\n",
              "  <div id=\"df-f6b634ec-8a41-4ec3-9ab1-1dc74ec1fcd6\" class=\"colab-df-container\">\n",
              "    <div>\n",
              "<style scoped>\n",
              "    .dataframe tbody tr th:only-of-type {\n",
              "        vertical-align: middle;\n",
              "    }\n",
              "\n",
              "    .dataframe tbody tr th {\n",
              "        vertical-align: top;\n",
              "    }\n",
              "\n",
              "    .dataframe thead th {\n",
              "        text-align: right;\n",
              "    }\n",
              "</style>\n",
              "<table border=\"1\" class=\"dataframe\">\n",
              "  <thead>\n",
              "    <tr style=\"text-align: right;\">\n",
              "      <th></th>\n",
              "      <th>Timestamp</th>\n",
              "      <th>Source IP Address</th>\n",
              "      <th>Destination IP Address</th>\n",
              "      <th>Source Port</th>\n",
              "      <th>Destination Port</th>\n",
              "      <th>Protocol</th>\n",
              "      <th>Packet Length</th>\n",
              "      <th>Packet Type</th>\n",
              "      <th>Traffic Type</th>\n",
              "      <th>Payload Data</th>\n",
              "      <th>...</th>\n",
              "      <th>Action Taken</th>\n",
              "      <th>Severity Level</th>\n",
              "      <th>User Information</th>\n",
              "      <th>Device Information</th>\n",
              "      <th>Network Segment</th>\n",
              "      <th>Geo-location Data</th>\n",
              "      <th>Proxy Information</th>\n",
              "      <th>Firewall Logs</th>\n",
              "      <th>IDS/IPS Alerts</th>\n",
              "      <th>Log Source</th>\n",
              "    </tr>\n",
              "  </thead>\n",
              "  <tbody>\n",
              "    <tr>\n",
              "      <th>0</th>\n",
              "      <td>2023-05-30 06:33:58</td>\n",
              "      <td>103.216.15.12</td>\n",
              "      <td>84.9.164.252</td>\n",
              "      <td>31225</td>\n",
              "      <td>17616</td>\n",
              "      <td>ICMP</td>\n",
              "      <td>503</td>\n",
              "      <td>Data</td>\n",
              "      <td>HTTP</td>\n",
              "      <td>Qui natus odio asperiores nam. Optio nobis ius...</td>\n",
              "      <td>...</td>\n",
              "      <td>Logged</td>\n",
              "      <td>Low</td>\n",
              "      <td>Reyansh Dugal</td>\n",
              "      <td>Mozilla/5.0 (compatible; MSIE 8.0; Windows NT ...</td>\n",
              "      <td>Segment A</td>\n",
              "      <td>Jamshedpur, Sikkim</td>\n",
              "      <td>150.9.97.135</td>\n",
              "      <td>Log Data</td>\n",
              "      <td>NaN</td>\n",
              "      <td>Server</td>\n",
              "    </tr>\n",
              "    <tr>\n",
              "      <th>1</th>\n",
              "      <td>2020-08-26 07:08:30</td>\n",
              "      <td>78.199.217.198</td>\n",
              "      <td>66.191.137.154</td>\n",
              "      <td>17245</td>\n",
              "      <td>48166</td>\n",
              "      <td>ICMP</td>\n",
              "      <td>1174</td>\n",
              "      <td>Data</td>\n",
              "      <td>HTTP</td>\n",
              "      <td>Aperiam quos modi officiis veritatis rem. Omni...</td>\n",
              "      <td>...</td>\n",
              "      <td>Blocked</td>\n",
              "      <td>Low</td>\n",
              "      <td>Sumer Rana</td>\n",
              "      <td>Mozilla/5.0 (compatible; MSIE 8.0; Windows NT ...</td>\n",
              "      <td>Segment B</td>\n",
              "      <td>Bilaspur, Nagaland</td>\n",
              "      <td>NaN</td>\n",
              "      <td>Log Data</td>\n",
              "      <td>NaN</td>\n",
              "      <td>Firewall</td>\n",
              "    </tr>\n",
              "    <tr>\n",
              "      <th>2</th>\n",
              "      <td>2022-11-13 08:23:25</td>\n",
              "      <td>63.79.210.48</td>\n",
              "      <td>198.219.82.17</td>\n",
              "      <td>16811</td>\n",
              "      <td>53600</td>\n",
              "      <td>UDP</td>\n",
              "      <td>306</td>\n",
              "      <td>Control</td>\n",
              "      <td>HTTP</td>\n",
              "      <td>Perferendis sapiente vitae soluta. Hic delectu...</td>\n",
              "      <td>...</td>\n",
              "      <td>Ignored</td>\n",
              "      <td>Low</td>\n",
              "      <td>Himmat Karpe</td>\n",
              "      <td>Mozilla/5.0 (compatible; MSIE 9.0; Windows NT ...</td>\n",
              "      <td>Segment C</td>\n",
              "      <td>Bokaro, Rajasthan</td>\n",
              "      <td>114.133.48.179</td>\n",
              "      <td>Log Data</td>\n",
              "      <td>Alert Data</td>\n",
              "      <td>Firewall</td>\n",
              "    </tr>\n",
              "    <tr>\n",
              "      <th>3</th>\n",
              "      <td>2023-07-02 10:38:46</td>\n",
              "      <td>163.42.196.10</td>\n",
              "      <td>101.228.192.255</td>\n",
              "      <td>20018</td>\n",
              "      <td>32534</td>\n",
              "      <td>UDP</td>\n",
              "      <td>385</td>\n",
              "      <td>Data</td>\n",
              "      <td>HTTP</td>\n",
              "      <td>Totam maxime beatae expedita explicabo porro l...</td>\n",
              "      <td>...</td>\n",
              "      <td>Blocked</td>\n",
              "      <td>Medium</td>\n",
              "      <td>Fateh Kibe</td>\n",
              "      <td>Mozilla/5.0 (Macintosh; PPC Mac OS X 10_11_5; ...</td>\n",
              "      <td>Segment B</td>\n",
              "      <td>Jaunpur, Rajasthan</td>\n",
              "      <td>NaN</td>\n",
              "      <td>NaN</td>\n",
              "      <td>Alert Data</td>\n",
              "      <td>Firewall</td>\n",
              "    </tr>\n",
              "    <tr>\n",
              "      <th>4</th>\n",
              "      <td>2023-07-16 13:11:07</td>\n",
              "      <td>71.166.185.76</td>\n",
              "      <td>189.243.174.238</td>\n",
              "      <td>6131</td>\n",
              "      <td>26646</td>\n",
              "      <td>TCP</td>\n",
              "      <td>1462</td>\n",
              "      <td>Data</td>\n",
              "      <td>DNS</td>\n",
              "      <td>Odit nesciunt dolorem nisi iste iusto. Animi v...</td>\n",
              "      <td>...</td>\n",
              "      <td>Blocked</td>\n",
              "      <td>Low</td>\n",
              "      <td>Dhanush Chad</td>\n",
              "      <td>Mozilla/5.0 (compatible; MSIE 5.0; Windows NT ...</td>\n",
              "      <td>Segment C</td>\n",
              "      <td>Anantapur, Tripura</td>\n",
              "      <td>149.6.110.119</td>\n",
              "      <td>NaN</td>\n",
              "      <td>Alert Data</td>\n",
              "      <td>Firewall</td>\n",
              "    </tr>\n",
              "  </tbody>\n",
              "</table>\n",
              "<p>5 rows × 25 columns</p>\n",
              "</div>\n",
              "    <div class=\"colab-df-buttons\">\n",
              "\n",
              "  <div class=\"colab-df-container\">\n",
              "    <button class=\"colab-df-convert\" onclick=\"convertToInteractive('df-f6b634ec-8a41-4ec3-9ab1-1dc74ec1fcd6')\"\n",
              "            title=\"Convert this dataframe to an interactive table.\"\n",
              "            style=\"display:none;\">\n",
              "\n",
              "  <svg xmlns=\"http://www.w3.org/2000/svg\" height=\"24px\" viewBox=\"0 -960 960 960\">\n",
              "    <path d=\"M120-120v-720h720v720H120Zm60-500h600v-160H180v160Zm220 220h160v-160H400v160Zm0 220h160v-160H400v160ZM180-400h160v-160H180v160Zm440 0h160v-160H620v160ZM180-180h160v-160H180v160Zm440 0h160v-160H620v160Z\"/>\n",
              "  </svg>\n",
              "    </button>\n",
              "\n",
              "  <style>\n",
              "    .colab-df-container {\n",
              "      display:flex;\n",
              "      gap: 12px;\n",
              "    }\n",
              "\n",
              "    .colab-df-convert {\n",
              "      background-color: #E8F0FE;\n",
              "      border: none;\n",
              "      border-radius: 50%;\n",
              "      cursor: pointer;\n",
              "      display: none;\n",
              "      fill: #1967D2;\n",
              "      height: 32px;\n",
              "      padding: 0 0 0 0;\n",
              "      width: 32px;\n",
              "    }\n",
              "\n",
              "    .colab-df-convert:hover {\n",
              "      background-color: #E2EBFA;\n",
              "      box-shadow: 0px 1px 2px rgba(60, 64, 67, 0.3), 0px 1px 3px 1px rgba(60, 64, 67, 0.15);\n",
              "      fill: #174EA6;\n",
              "    }\n",
              "\n",
              "    .colab-df-buttons div {\n",
              "      margin-bottom: 4px;\n",
              "    }\n",
              "\n",
              "    [theme=dark] .colab-df-convert {\n",
              "      background-color: #3B4455;\n",
              "      fill: #D2E3FC;\n",
              "    }\n",
              "\n",
              "    [theme=dark] .colab-df-convert:hover {\n",
              "      background-color: #434B5C;\n",
              "      box-shadow: 0px 1px 3px 1px rgba(0, 0, 0, 0.15);\n",
              "      filter: drop-shadow(0px 1px 2px rgba(0, 0, 0, 0.3));\n",
              "      fill: #FFFFFF;\n",
              "    }\n",
              "  </style>\n",
              "\n",
              "    <script>\n",
              "      const buttonEl =\n",
              "        document.querySelector('#df-f6b634ec-8a41-4ec3-9ab1-1dc74ec1fcd6 button.colab-df-convert');\n",
              "      buttonEl.style.display =\n",
              "        google.colab.kernel.accessAllowed ? 'block' : 'none';\n",
              "\n",
              "      async function convertToInteractive(key) {\n",
              "        const element = document.querySelector('#df-f6b634ec-8a41-4ec3-9ab1-1dc74ec1fcd6');\n",
              "        const dataTable =\n",
              "          await google.colab.kernel.invokeFunction('convertToInteractive',\n",
              "                                                    [key], {});\n",
              "        if (!dataTable) return;\n",
              "\n",
              "        const docLinkHtml = 'Like what you see? Visit the ' +\n",
              "          '<a target=\"_blank\" href=https://colab.research.google.com/notebooks/data_table.ipynb>data table notebook</a>'\n",
              "          + ' to learn more about interactive tables.';\n",
              "        element.innerHTML = '';\n",
              "        dataTable['output_type'] = 'display_data';\n",
              "        await google.colab.output.renderOutput(dataTable, element);\n",
              "        const docLink = document.createElement('div');\n",
              "        docLink.innerHTML = docLinkHtml;\n",
              "        element.appendChild(docLink);\n",
              "      }\n",
              "    </script>\n",
              "  </div>\n",
              "\n",
              "\n",
              "    <div id=\"df-3e3fe99e-ad1f-43c4-8970-15114de7d9ce\">\n",
              "      <button class=\"colab-df-quickchart\" onclick=\"quickchart('df-3e3fe99e-ad1f-43c4-8970-15114de7d9ce')\"\n",
              "                title=\"Suggest charts\"\n",
              "                style=\"display:none;\">\n",
              "\n",
              "<svg xmlns=\"http://www.w3.org/2000/svg\" height=\"24px\"viewBox=\"0 0 24 24\"\n",
              "     width=\"24px\">\n",
              "    <g>\n",
              "        <path d=\"M19 3H5c-1.1 0-2 .9-2 2v14c0 1.1.9 2 2 2h14c1.1 0 2-.9 2-2V5c0-1.1-.9-2-2-2zM9 17H7v-7h2v7zm4 0h-2V7h2v10zm4 0h-2v-4h2v4z\"/>\n",
              "    </g>\n",
              "</svg>\n",
              "      </button>\n",
              "\n",
              "<style>\n",
              "  .colab-df-quickchart {\n",
              "      --bg-color: #E8F0FE;\n",
              "      --fill-color: #1967D2;\n",
              "      --hover-bg-color: #E2EBFA;\n",
              "      --hover-fill-color: #174EA6;\n",
              "      --disabled-fill-color: #AAA;\n",
              "      --disabled-bg-color: #DDD;\n",
              "  }\n",
              "\n",
              "  [theme=dark] .colab-df-quickchart {\n",
              "      --bg-color: #3B4455;\n",
              "      --fill-color: #D2E3FC;\n",
              "      --hover-bg-color: #434B5C;\n",
              "      --hover-fill-color: #FFFFFF;\n",
              "      --disabled-bg-color: #3B4455;\n",
              "      --disabled-fill-color: #666;\n",
              "  }\n",
              "\n",
              "  .colab-df-quickchart {\n",
              "    background-color: var(--bg-color);\n",
              "    border: none;\n",
              "    border-radius: 50%;\n",
              "    cursor: pointer;\n",
              "    display: none;\n",
              "    fill: var(--fill-color);\n",
              "    height: 32px;\n",
              "    padding: 0;\n",
              "    width: 32px;\n",
              "  }\n",
              "\n",
              "  .colab-df-quickchart:hover {\n",
              "    background-color: var(--hover-bg-color);\n",
              "    box-shadow: 0 1px 2px rgba(60, 64, 67, 0.3), 0 1px 3px 1px rgba(60, 64, 67, 0.15);\n",
              "    fill: var(--button-hover-fill-color);\n",
              "  }\n",
              "\n",
              "  .colab-df-quickchart-complete:disabled,\n",
              "  .colab-df-quickchart-complete:disabled:hover {\n",
              "    background-color: var(--disabled-bg-color);\n",
              "    fill: var(--disabled-fill-color);\n",
              "    box-shadow: none;\n",
              "  }\n",
              "\n",
              "  .colab-df-spinner {\n",
              "    border: 2px solid var(--fill-color);\n",
              "    border-color: transparent;\n",
              "    border-bottom-color: var(--fill-color);\n",
              "    animation:\n",
              "      spin 1s steps(1) infinite;\n",
              "  }\n",
              "\n",
              "  @keyframes spin {\n",
              "    0% {\n",
              "      border-color: transparent;\n",
              "      border-bottom-color: var(--fill-color);\n",
              "      border-left-color: var(--fill-color);\n",
              "    }\n",
              "    20% {\n",
              "      border-color: transparent;\n",
              "      border-left-color: var(--fill-color);\n",
              "      border-top-color: var(--fill-color);\n",
              "    }\n",
              "    30% {\n",
              "      border-color: transparent;\n",
              "      border-left-color: var(--fill-color);\n",
              "      border-top-color: var(--fill-color);\n",
              "      border-right-color: var(--fill-color);\n",
              "    }\n",
              "    40% {\n",
              "      border-color: transparent;\n",
              "      border-right-color: var(--fill-color);\n",
              "      border-top-color: var(--fill-color);\n",
              "    }\n",
              "    60% {\n",
              "      border-color: transparent;\n",
              "      border-right-color: var(--fill-color);\n",
              "    }\n",
              "    80% {\n",
              "      border-color: transparent;\n",
              "      border-right-color: var(--fill-color);\n",
              "      border-bottom-color: var(--fill-color);\n",
              "    }\n",
              "    90% {\n",
              "      border-color: transparent;\n",
              "      border-bottom-color: var(--fill-color);\n",
              "    }\n",
              "  }\n",
              "</style>\n",
              "\n",
              "      <script>\n",
              "        async function quickchart(key) {\n",
              "          const quickchartButtonEl =\n",
              "            document.querySelector('#' + key + ' button');\n",
              "          quickchartButtonEl.disabled = true;  // To prevent multiple clicks.\n",
              "          quickchartButtonEl.classList.add('colab-df-spinner');\n",
              "          try {\n",
              "            const charts = await google.colab.kernel.invokeFunction(\n",
              "                'suggestCharts', [key], {});\n",
              "          } catch (error) {\n",
              "            console.error('Error during call to suggestCharts:', error);\n",
              "          }\n",
              "          quickchartButtonEl.classList.remove('colab-df-spinner');\n",
              "          quickchartButtonEl.classList.add('colab-df-quickchart-complete');\n",
              "        }\n",
              "        (() => {\n",
              "          let quickchartButtonEl =\n",
              "            document.querySelector('#df-3e3fe99e-ad1f-43c4-8970-15114de7d9ce button');\n",
              "          quickchartButtonEl.style.display =\n",
              "            google.colab.kernel.accessAllowed ? 'block' : 'none';\n",
              "        })();\n",
              "      </script>\n",
              "    </div>\n",
              "\n",
              "    </div>\n",
              "  </div>\n"
            ],
            "application/vnd.google.colaboratory.intrinsic+json": {
              "type": "dataframe"
            }
          },
          "metadata": {}
        },
        {
          "output_type": "stream",
          "name": "stdout",
          "text": [
            "\n",
            "Column Information:\n",
            "<class 'pandas.core.frame.DataFrame'>\n",
            "RangeIndex: 40000 entries, 0 to 39999\n",
            "Data columns (total 25 columns):\n",
            " #   Column                  Non-Null Count  Dtype  \n",
            "---  ------                  --------------  -----  \n",
            " 0   Timestamp               40000 non-null  object \n",
            " 1   Source IP Address       40000 non-null  object \n",
            " 2   Destination IP Address  40000 non-null  object \n",
            " 3   Source Port             40000 non-null  int64  \n",
            " 4   Destination Port        40000 non-null  int64  \n",
            " 5   Protocol                40000 non-null  object \n",
            " 6   Packet Length           40000 non-null  int64  \n",
            " 7   Packet Type             40000 non-null  object \n",
            " 8   Traffic Type            40000 non-null  object \n",
            " 9   Payload Data            40000 non-null  object \n",
            " 10  Malware Indicators      20000 non-null  object \n",
            " 11  Anomaly Scores          40000 non-null  float64\n",
            " 12  Alerts/Warnings         19933 non-null  object \n",
            " 13  Attack Type             40000 non-null  object \n",
            " 14  Attack Signature        40000 non-null  object \n",
            " 15  Action Taken            40000 non-null  object \n",
            " 16  Severity Level          40000 non-null  object \n",
            " 17  User Information        40000 non-null  object \n",
            " 18  Device Information      40000 non-null  object \n",
            " 19  Network Segment         40000 non-null  object \n",
            " 20  Geo-location Data       40000 non-null  object \n",
            " 21  Proxy Information       20149 non-null  object \n",
            " 22  Firewall Logs           20039 non-null  object \n",
            " 23  IDS/IPS Alerts          19950 non-null  object \n",
            " 24  Log Source              40000 non-null  object \n",
            "dtypes: float64(1), int64(3), object(21)\n",
            "memory usage: 7.6+ MB\n"
          ]
        },
        {
          "output_type": "display_data",
          "data": {
            "text/plain": [
              "None"
            ]
          },
          "metadata": {}
        }
      ]
    },
    {
      "cell_type": "code",
      "source": [
        "data.shape"
      ],
      "metadata": {
        "colab": {
          "base_uri": "https://localhost:8080/"
        },
        "id": "W2gbcW6t97GI",
        "outputId": "59548f7c-db53-4a55-ecf2-2e06e10fe47f"
      },
      "execution_count": 3,
      "outputs": [
        {
          "output_type": "execute_result",
          "data": {
            "text/plain": [
              "(40000, 25)"
            ]
          },
          "metadata": {},
          "execution_count": 3
        }
      ]
    },
    {
      "cell_type": "markdown",
      "source": [
        "Dataset consists of 40,000 rows and 25 columns"
      ],
      "metadata": {
        "id": "dWq5bzqg-O1H"
      }
    },
    {
      "cell_type": "markdown",
      "source": [
        "Let's check for null values"
      ],
      "metadata": {
        "id": "PGk70Smz-yFY"
      }
    },
    {
      "cell_type": "code",
      "source": [
        "data.isnull().sum()"
      ],
      "metadata": {
        "colab": {
          "base_uri": "https://localhost:8080/",
          "height": 868
        },
        "id": "88YIrbCn-2mo",
        "outputId": "f8df28bc-96eb-4d5e-c1c5-3941c8d917a7"
      },
      "execution_count": 5,
      "outputs": [
        {
          "output_type": "execute_result",
          "data": {
            "text/plain": [
              "Timestamp                     0\n",
              "Source IP Address             0\n",
              "Destination IP Address        0\n",
              "Source Port                   0\n",
              "Destination Port              0\n",
              "Protocol                      0\n",
              "Packet Length                 0\n",
              "Packet Type                   0\n",
              "Traffic Type                  0\n",
              "Payload Data                  0\n",
              "Malware Indicators        20000\n",
              "Anomaly Scores                0\n",
              "Alerts/Warnings           20067\n",
              "Attack Type                   0\n",
              "Attack Signature              0\n",
              "Action Taken                  0\n",
              "Severity Level                0\n",
              "User Information              0\n",
              "Device Information            0\n",
              "Network Segment               0\n",
              "Geo-location Data             0\n",
              "Proxy Information         19851\n",
              "Firewall Logs             19961\n",
              "IDS/IPS Alerts            20050\n",
              "Log Source                    0\n",
              "dtype: int64"
            ],
            "text/html": [
              "<div>\n",
              "<style scoped>\n",
              "    .dataframe tbody tr th:only-of-type {\n",
              "        vertical-align: middle;\n",
              "    }\n",
              "\n",
              "    .dataframe tbody tr th {\n",
              "        vertical-align: top;\n",
              "    }\n",
              "\n",
              "    .dataframe thead th {\n",
              "        text-align: right;\n",
              "    }\n",
              "</style>\n",
              "<table border=\"1\" class=\"dataframe\">\n",
              "  <thead>\n",
              "    <tr style=\"text-align: right;\">\n",
              "      <th></th>\n",
              "      <th>0</th>\n",
              "    </tr>\n",
              "  </thead>\n",
              "  <tbody>\n",
              "    <tr>\n",
              "      <th>Timestamp</th>\n",
              "      <td>0</td>\n",
              "    </tr>\n",
              "    <tr>\n",
              "      <th>Source IP Address</th>\n",
              "      <td>0</td>\n",
              "    </tr>\n",
              "    <tr>\n",
              "      <th>Destination IP Address</th>\n",
              "      <td>0</td>\n",
              "    </tr>\n",
              "    <tr>\n",
              "      <th>Source Port</th>\n",
              "      <td>0</td>\n",
              "    </tr>\n",
              "    <tr>\n",
              "      <th>Destination Port</th>\n",
              "      <td>0</td>\n",
              "    </tr>\n",
              "    <tr>\n",
              "      <th>Protocol</th>\n",
              "      <td>0</td>\n",
              "    </tr>\n",
              "    <tr>\n",
              "      <th>Packet Length</th>\n",
              "      <td>0</td>\n",
              "    </tr>\n",
              "    <tr>\n",
              "      <th>Packet Type</th>\n",
              "      <td>0</td>\n",
              "    </tr>\n",
              "    <tr>\n",
              "      <th>Traffic Type</th>\n",
              "      <td>0</td>\n",
              "    </tr>\n",
              "    <tr>\n",
              "      <th>Payload Data</th>\n",
              "      <td>0</td>\n",
              "    </tr>\n",
              "    <tr>\n",
              "      <th>Malware Indicators</th>\n",
              "      <td>20000</td>\n",
              "    </tr>\n",
              "    <tr>\n",
              "      <th>Anomaly Scores</th>\n",
              "      <td>0</td>\n",
              "    </tr>\n",
              "    <tr>\n",
              "      <th>Alerts/Warnings</th>\n",
              "      <td>20067</td>\n",
              "    </tr>\n",
              "    <tr>\n",
              "      <th>Attack Type</th>\n",
              "      <td>0</td>\n",
              "    </tr>\n",
              "    <tr>\n",
              "      <th>Attack Signature</th>\n",
              "      <td>0</td>\n",
              "    </tr>\n",
              "    <tr>\n",
              "      <th>Action Taken</th>\n",
              "      <td>0</td>\n",
              "    </tr>\n",
              "    <tr>\n",
              "      <th>Severity Level</th>\n",
              "      <td>0</td>\n",
              "    </tr>\n",
              "    <tr>\n",
              "      <th>User Information</th>\n",
              "      <td>0</td>\n",
              "    </tr>\n",
              "    <tr>\n",
              "      <th>Device Information</th>\n",
              "      <td>0</td>\n",
              "    </tr>\n",
              "    <tr>\n",
              "      <th>Network Segment</th>\n",
              "      <td>0</td>\n",
              "    </tr>\n",
              "    <tr>\n",
              "      <th>Geo-location Data</th>\n",
              "      <td>0</td>\n",
              "    </tr>\n",
              "    <tr>\n",
              "      <th>Proxy Information</th>\n",
              "      <td>19851</td>\n",
              "    </tr>\n",
              "    <tr>\n",
              "      <th>Firewall Logs</th>\n",
              "      <td>19961</td>\n",
              "    </tr>\n",
              "    <tr>\n",
              "      <th>IDS/IPS Alerts</th>\n",
              "      <td>20050</td>\n",
              "    </tr>\n",
              "    <tr>\n",
              "      <th>Log Source</th>\n",
              "      <td>0</td>\n",
              "    </tr>\n",
              "  </tbody>\n",
              "</table>\n",
              "</div><br><label><b>dtype:</b> int64</label>"
            ]
          },
          "metadata": {},
          "execution_count": 5
        }
      ]
    },
    {
      "cell_type": "markdown",
      "source": [
        "These columns have null values:\n",
        "1. Malware Indicators\n",
        "2. Alerts/Warnings\n",
        "3. Proxy Information\n",
        "4. Firewall Logs\n",
        "5. IDS/IPS Alerts\n"
      ],
      "metadata": {
        "id": "C3beV22ORGvp"
      }
    },
    {
      "cell_type": "markdown",
      "source": [
        "We now have no missing values in any column"
      ],
      "metadata": {
        "id": "mJQkn5wRYIKJ"
      }
    },
    {
      "cell_type": "markdown",
      "source": [
        "We want to drop columns which have no substantial information:\n",
        "\n",
        "1. Source IP Address\n",
        "2. Destination IP Address\n",
        "3. Payload Data\n",
        "4. User Information\n",
        "5. Device Information"
      ],
      "metadata": {
        "id": "r47GhtneYfwh"
      }
    },
    {
      "cell_type": "code",
      "source": [
        "data.shape"
      ],
      "metadata": {
        "colab": {
          "base_uri": "https://localhost:8080/"
        },
        "id": "maSghos1aQM4",
        "outputId": "685e8db9-ac5c-4aab-9ed0-972c32577b49"
      },
      "execution_count": 8,
      "outputs": [
        {
          "output_type": "execute_result",
          "data": {
            "text/plain": [
              "(40000, 20)"
            ]
          },
          "metadata": {},
          "execution_count": 8
        }
      ]
    },
    {
      "cell_type": "markdown",
      "source": [
        "### Class Distributions, Class Balance and Anomaly Trends"
      ],
      "metadata": {
        "id": "VGAc12f1ew_u"
      }
    },
    {
      "cell_type": "markdown",
      "source": [
        "#### Class Distributions"
      ],
      "metadata": {
        "id": "W8kCo-X4gxRn"
      }
    },
    {
      "cell_type": "markdown",
      "source": [
        "##### 1. Attack Types"
      ],
      "metadata": {
        "id": "i1sFpOHEheCq"
      }
    },
    {
      "cell_type": "code",
      "source": [
        "plt.figure(figsize=(8, 6))\n",
        "sns.countplot(data=data, y='Attack Type', order=data['Attack Type'].value_counts().index, palette='inferno')\n",
        "plt.title('Distribution of Attack Types')\n",
        "plt.xlabel('Count')\n",
        "plt.ylabel('Attack Type')\n",
        "plt.show()\n",
        "\n",
        "print(\"\\nAttack Type distribution percentages:\")\n",
        "display(data['Attack Type'].value_counts(normalize=True) * 100)"
      ],
      "metadata": {
        "colab": {
          "base_uri": "https://localhost:8080/",
          "height": 704
        },
        "id": "XOr3XoEGhiyR",
        "outputId": "6899ca30-74b8-46ad-b800-87db82deea06"
      },
      "execution_count": 23,
      "outputs": [
        {
          "output_type": "display_data",
          "data": {
            "text/plain": [
              "<Figure size 800x600 with 1 Axes>"
            ],
            "image/png": "[encoded data removed]"
          },
          "metadata": {}
        },
        {
          "output_type": "stream",
          "name": "stdout",
          "text": [
            "\n",
            "Attack Type distribution percentages:\n"
          ]
        },
        {
          "output_type": "display_data",
          "data": {
            "text/plain": [
              "Attack Type\n",
              "DDoS         33.5700\n",
              "Malware      33.2675\n",
              "Intrusion    33.1625\n",
              "Name: proportion, dtype: float64"
            ],
            "text/html": [
              "<div>\n",
              "<style scoped>\n",
              "    .dataframe tbody tr th:only-of-type {\n",
              "        vertical-align: middle;\n",
              "    }\n",
              "\n",
              "    .dataframe tbody tr th {\n",
              "        vertical-align: top;\n",
              "    }\n",
              "\n",
              "    .dataframe thead th {\n",
              "        text-align: right;\n",
              "    }\n",
              "</style>\n",
              "<table border=\"1\" class=\"dataframe\">\n",
              "  <thead>\n",
              "    <tr style=\"text-align: right;\">\n",
              "      <th></th>\n",
              "      <th>proportion</th>\n",
              "    </tr>\n",
              "    <tr>\n",
              "      <th>Attack Type</th>\n",
              "      <th></th>\n",
              "    </tr>\n",
              "  </thead>\n",
              "  <tbody>\n",
              "    <tr>\n",
              "      <th>DDoS</th>\n",
              "      <td>33.5700</td>\n",
              "    </tr>\n",
              "    <tr>\n",
              "      <th>Malware</th>\n",
              "      <td>33.2675</td>\n",
              "    </tr>\n",
              "    <tr>\n",
              "      <th>Intrusion</th>\n",
              "      <td>33.1625</td>\n",
              "    </tr>\n",
              "  </tbody>\n",
              "</table>\n",
              "</div><br><label><b>dtype:</b> float64</label>"
            ]
          },
          "metadata": {}
        }
      ]
    },
    {
      "cell_type": "markdown",
      "metadata": {
        "id": "c02ab23c"
      },
      "source": [
        "##### 2. Protocol Usage"
      ]
    },
    {
      "cell_type": "code",
      "metadata": {
        "colab": {
          "base_uri": "https://localhost:8080/",
          "height": 637
        },
        "id": "3882da67",
        "outputId": "ecdd04ea-b823-4925-c560-aec6c3bfbda3"
      },
      "source": [
        "plt.figure(figsize=(8, 6))\n",
        "sns.countplot(data=data, y='Protocol', order=data['Protocol'].value_counts().index, palette='viridis')\n",
        "plt.title('Distribution of Network Protocols')\n",
        "plt.xlabel('Count')\n",
        "plt.ylabel('Protocol')\n",
        "plt.show()\n",
        "\n",
        "print(\"\\nProtocol distribution percentages:\")\n",
        "display(data['Protocol'].value_counts(normalize=True) * 100)"
      ],
      "execution_count": 11,
      "outputs": [
        {
          "output_type": "display_data",
          "data": {
            "text/plain": [
              "<Figure size 1000x600 with 1 Axes>"
            ],
            "image/png": "[encoded data removed]"
          },
          "metadata": {}
        },
        {
          "output_type": "stream",
          "name": "stdout",
          "text": [
            "\n",
            "Protocol distribution percentages:\n"
          ]
        },
        {
          "output_type": "display_data",
          "data": {
            "text/plain": [
              "Protocol\n",
              "ICMP    33.5725\n",
              "UDP     33.2475\n",
              "TCP     33.1800\n",
              "Name: proportion, dtype: float64"
            ],
            "text/html": [
              "<div>\n",
              "<style scoped>\n",
              "    .dataframe tbody tr th:only-of-type {\n",
              "        vertical-align: middle;\n",
              "    }\n",
              "\n",
              "    .dataframe tbody tr th {\n",
              "        vertical-align: top;\n",
              "    }\n",
              "\n",
              "    .dataframe thead th {\n",
              "        text-align: right;\n",
              "    }\n",
              "</style>\n",
              "<table border=\"1\" class=\"dataframe\">\n",
              "  <thead>\n",
              "    <tr style=\"text-align: right;\">\n",
              "      <th></th>\n",
              "      <th>proportion</th>\n",
              "    </tr>\n",
              "    <tr>\n",
              "      <th>Protocol</th>\n",
              "      <th></th>\n",
              "    </tr>\n",
              "  </thead>\n",
              "  <tbody>\n",
              "    <tr>\n",
              "      <th>ICMP</th>\n",
              "      <td>33.5725</td>\n",
              "    </tr>\n",
              "    <tr>\n",
              "      <th>UDP</th>\n",
              "      <td>33.2475</td>\n",
              "    </tr>\n",
              "    <tr>\n",
              "      <th>TCP</th>\n",
              "      <td>33.1800</td>\n",
              "    </tr>\n",
              "  </tbody>\n",
              "</table>\n",
              "</div><br><label><b>dtype:</b> float64</label>"
            ]
          },
          "metadata": {}
        }
      ]
    },
    {
      "cell_type": "markdown",
      "metadata": {
        "id": "edcefc93"
      },
      "source": [
        " ##### Severity Levels"
      ]
    },
    {
      "cell_type": "code",
      "metadata": {
        "colab": {
          "base_uri": "https://localhost:8080/",
          "height": 415
        },
        "id": "8f2c84da",
        "outputId": "4a2f01cc-f162-4465-8b17-a13084cb8546"
      },
      "source": [
        "plt.figure(figsize=(8, 5))\n",
        "sns.countplot(data=data, y='Severity Level', order=data['Severity Level'].value_counts().index, palette='viridis')\n",
        "plt.title('Distribution of Severity Levels')\n",
        "plt.xlabel('Count')\n",
        "plt.ylabel('Severity Level')\n",
        "plt.show()"
      ],
      "execution_count": 24,
      "outputs": [
        {
          "output_type": "display_data",
          "data": {
            "text/plain": [
              "<Figure size 800x500 with 1 Axes>"
            ],
            "image/png": "[encoded data removed]"
          },
          "metadata": {}
        }
      ]
    },
    {
      "cell_type": "markdown",
      "metadata": {
        "id": "fb67c44c"
      },
      "source": [
        "##### 5. Packet Types"
      ]
    },
    {
      "cell_type": "code",
      "metadata": {
        "colab": {
          "base_uri": "https://localhost:8080/",
          "height": 428
        },
        "id": "e915d9e1",
        "outputId": "b5980b8d-4b79-4173-b2d3-1d8b77fbdf19"
      },
      "source": [
        "plt.figure(figsize=(8, 5))\n",
        "sns.countplot(data=data, y='Packet Type', order=data['Packet Type'].value_counts().index, palette='viridis')\n",
        "plt.title('Distribution of Packet Types')\n",
        "plt.xlabel('Count')\n",
        "plt.ylabel('Packet Type')\n",
        "plt.show()"
      ],
      "execution_count": 15,
      "outputs": [
        {
          "output_type": "display_data",
          "data": {
            "text/plain": [
              "<Figure size 800x500 with 1 Axes>"
            ],
            "image/png": "[encoded data removed]"
          },
          "metadata": {}
        }
      ]
    },
    {
      "cell_type": "markdown",
      "metadata": {
        "id": "d1432925"
      },
      "source": [
        "##### 6. Traffic Types"
      ]
    },
    {
      "cell_type": "code",
      "metadata": {
        "colab": {
          "base_uri": "https://localhost:8080/",
          "height": 408
        },
        "id": "e481f222",
        "outputId": "90e4729f-9adc-4ba1-a88a-50a158fbdae6"
      },
      "source": [
        "plt.figure(figsize=(10, 6))\n",
        "sns.countplot(data=data, y='Traffic Type', order=data['Traffic Type'].value_counts().index, palette='viridis')\n",
        "plt.title('Distribution of Traffic Types')\n",
        "plt.xlabel('Count')\n",
        "plt.ylabel('Traffic Type')\n",
        "plt.show()"
      ],
      "execution_count": 16,
      "outputs": [
        {
          "output_type": "display_data",
          "data": {
            "text/plain": [
              "<Figure size 1000x600 with 1 Axes>"
            ],
            "image/png": "[encoded data removed]"
          },
          "metadata": {}
        }
      ]
    },
    {
      "cell_type": "markdown",
      "metadata": {
        "id": "d8bb185a"
      },
      "source": [
        "##### 6. Log Sources"
      ]
    },
    {
      "cell_type": "code",
      "metadata": {
        "colab": {
          "base_uri": "https://localhost:8080/",
          "height": 426
        },
        "id": "3b81092c",
        "outputId": "a6a6465f-9a9a-4d00-ccae-917f33351240"
      },
      "source": [
        "plt.figure(figsize=(8, 5))\n",
        "sns.countplot(data=data, y='Log Source', order=data['Log Source'].value_counts().index, palette='viridis')\n",
        "plt.title('Distribution of Log Sources')\n",
        "plt.xlabel('Count')\n",
        "plt.ylabel('Log Source')\n",
        "plt.show()"
      ],
      "execution_count": 25,
      "outputs": [
        {
          "output_type": "display_data",
          "data": {
            "text/plain": [
              "<Figure size 800x500 with 1 Axes>"
            ],
            "image/png": "[encoded data removed]"
          },
          "metadata": {}
        }
      ]
    },
    {
      "cell_type": "markdown",
      "metadata": {
        "id": "9b16f6c3"
      },
      "source": [
        "##### 7. Packet Lengths"
      ]
    },
    {
      "cell_type": "code",
      "metadata": {
        "colab": {
          "base_uri": "https://localhost:8080/",
          "height": 421
        },
        "id": "74c58627",
        "outputId": "1e7fb460-0024-4d50-eb83-9fc8543f3a4c"
      },
      "source": [
        "plt.figure(figsize=(10, 6))\n",
        "sns.histplot(data['Packet Length'], bins=50, kde=True)\n",
        "plt.title('Distribution of Packet Lengths')\n",
        "plt.xlabel('Packet Length')\n",
        "plt.ylabel('Frequency')\n",
        "plt.show()"
      ],
      "execution_count": 19,
      "outputs": [
        {
          "output_type": "display_data",
          "data": {
            "text/plain": [
              "<Figure size 1000x600 with 1 Axes>"
            ],
            "image/png": "[encoded data removed]"
          },
          "metadata": {}
        }
      ]
    },
    {
      "cell_type": "code",
      "source": [],
      "metadata": {
        "id": "BBREAfMwjumM"
      },
      "execution_count": null,
      "outputs": []
    },
    {
      "cell_type": "markdown",
      "metadata": {
        "id": "43255a12"
      },
      "source": [
        "### Correlation Matrix of Numerical Features"
      ]
    },
    {
      "cell_type": "code",
      "metadata": {
        "colab": {
          "base_uri": "https://localhost:8080/",
          "height": 545
        },
        "id": "d57f398e",
        "outputId": "23b12357-5b9a-4d20-d095-e0d0e847f56e"
      },
      "source": [
        "numerical_cols = ['Source Port', 'Destination Port', 'Packet Length', 'Anomaly Scores']\n",
        "correlation_matrix = data[numerical_cols].corr()\n",
        "\n",
        "plt.figure(figsize=(8, 6))\n",
        "sns.heatmap(correlation_matrix, annot=True, cmap='coolwarm', fmt=\".2f\")\n",
        "plt.title('Correlation Matrix of Numerical Features')\n",
        "plt.show()"
      ],
      "execution_count": 26,
      "outputs": [
        {
          "output_type": "display_data",
          "data": {
            "text/plain": [
              "<Figure size 800x600 with 2 Axes>"
            ],
            "image/png": "[encoded data removed]"
          },
          "metadata": {}
        }
      ]
    },
    {
      "cell_type": "markdown",
      "source": [
        "We can infer from this matrix is that there is very little to no linear correlation between the numerical features **'Source Port', 'Destination Port', 'Packet Length', and 'Anomaly Scores'** in this dataset. This means that changes in one of these numerical features are not linearly associated with changes in the others.\n",
        "\n",
        "This is a useful finding for model building, as it suggests that multicollinearity is not a significant issue among these specific numerical features."
      ],
      "metadata": {
        "id": "zRGgvowK2sG1"
      }
    },
    {
      "cell_type": "markdown",
      "metadata": {
        "id": "561f6dc3"
      },
      "source": [
        "### Summary of EDA Findings"
      ]
    },
    {
      "cell_type": "markdown",
      "source": [
        "Based on the analysis:\n",
        "\n",
        "**Class Distributions and Class Balance:**\n",
        "[Summarize findings from the Attack Type distribution plot and value counts here]\n",
        "\n",
        "**Protocol Usage:**\n",
        "[Summarize findings from the Protocol distribution plot and value counts here]\n",
        "\n",
        "**Anomaly Score Trends:**\n",
        "[Summarize findings from the Anomaly Score statistics and histogram here]"
      ],
      "metadata": {
        "id": "SorIkO11jvRU"
      }
    }
  ]
}